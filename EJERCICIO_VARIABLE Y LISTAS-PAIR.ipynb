{
 "cells": [
  {
   "cell_type": "code",
   "execution_count": 2,
   "metadata": {},
   "outputs": [
    {
     "name": "stdout",
     "output_type": "stream",
     "text": [
      "Introduce una frase:\n",
      "Introduce una letra:\n",
      "HOLA\n"
     ]
    }
   ],
   "source": [
    "#o\tPrintead la misma frase pero con la vocal introducida en mayúsculas.\n",
    "\n",
    "#frase= 'hola como estas'\n",
    "\n",
    "print('Introduce una frase:')\n",
    "frase=input()\n",
    "print('Introduce una letra:')\n",
    "letra=input()\n",
    "frase=frase.replace(letra,letra.upper())\n",
    "print(frase)"
   ]
  },
  {
   "cell_type": "code",
   "execution_count": 3,
   "metadata": {},
   "outputs": [
    {
     "name": "stdout",
     "output_type": "stream",
     "text": [
      "Introduce una lista de la compra:\n",
      "\n",
      "\n"
     ]
    }
   ],
   "source": [
    "\n",
    "print('Introduce una lista de la compra:')\n",
    "compra=input()\n",
    "print(compra)\n",
    "\n",
    "compra=compra.replace(\",\",\"\\n\")\n",
    "print(compra)"
   ]
  },
  {
   "cell_type": "markdown",
   "metadata": {},
   "source": [
    "LISTAS"
   ]
  },
  {
   "cell_type": "code",
   "execution_count": 4,
   "metadata": {},
   "outputs": [
    {
     "name": "stdout",
     "output_type": "stream",
     "text": [
      "[2, 4, 5, 7, 2, 4, 5, 7]\n"
     ]
    }
   ],
   "source": [
    "#1 Duplicar elementos de una lista\n",
    "\n",
    "lista=[2, 4, 5, 7]\n",
    "lista2=lista.copy()\n",
    "\n",
    "(lista.extend(lista))\n",
    "print(lista)\n",
    "\n"
   ]
  },
  {
   "cell_type": "code",
   "execution_count": 5,
   "metadata": {},
   "outputs": [
    {
     "name": "stdout",
     "output_type": "stream",
     "text": [
      "[2, 4, 5, 7, 3, 5, 8, 9]\n"
     ]
    }
   ],
   "source": [
    "#2 Combinar dos listas\n",
    "\n",
    "lista=[2, 4, 5, 7]\n",
    "lista2=[3,5,8,9]\n",
    "\n",
    "(lista.extend(lista2))\n",
    "print(lista)"
   ]
  },
  {
   "cell_type": "code",
   "execution_count": 6,
   "metadata": {},
   "outputs": [
    {
     "name": "stdout",
     "output_type": "stream",
     "text": [
      "[2, 4, 5, 7]\n"
     ]
    }
   ],
   "source": [
    "#3 suma\n",
    "lista=[2, 4, 5, 7]\n",
    "print(lista)"
   ]
  },
  {
   "cell_type": "code",
   "execution_count": 7,
   "metadata": {},
   "outputs": [
    {
     "data": {
      "text/plain": [
       "7"
      ]
     },
     "execution_count": 7,
     "metadata": {},
     "output_type": "execute_result"
    }
   ],
   "source": [
    "#4 Encontrar el valor máximo en una lista\n",
    "lista=[2, 4, 5, 7]\n",
    "max(lista)\n"
   ]
  },
  {
   "cell_type": "code",
   "execution_count": 8,
   "metadata": {},
   "outputs": [
    {
     "data": {
      "text/plain": [
       "4"
      ]
     },
     "execution_count": 8,
     "metadata": {},
     "output_type": "execute_result"
    }
   ],
   "source": [
    "\n",
    "#5 Calcular la longitud de una lista\n",
    "lista=[2, 4, 5, 7]\n",
    "len(lista)\n"
   ]
  },
  {
   "cell_type": "code",
   "execution_count": 9,
   "metadata": {},
   "outputs": [
    {
     "data": {
      "text/plain": [
       "3"
      ]
     },
     "execution_count": 9,
     "metadata": {},
     "output_type": "execute_result"
    }
   ],
   "source": [
    "# 6 Encontrar el índice de un elemento en una lista\n",
    "lista=[2, 4, 5, 7]\n",
    "lista.index(7)\n"
   ]
  },
  {
   "cell_type": "code",
   "execution_count": 10,
   "metadata": {},
   "outputs": [
    {
     "data": {
      "text/plain": [
       "2"
      ]
     },
     "execution_count": 10,
     "metadata": {},
     "output_type": "execute_result"
    }
   ],
   "source": [
    "#7 Contar ocurrencias de un elemento en una lista\n",
    "\n",
    "lista=[2, 4, 5, 7,9,8,7]\n",
    "lista.count(7)\n"
   ]
  },
  {
   "cell_type": "code",
   "execution_count": 11,
   "metadata": {},
   "outputs": [
    {
     "data": {
      "text/plain": [
       "[5, 7, 9]"
      ]
     },
     "execution_count": 11,
     "metadata": {},
     "output_type": "execute_result"
    }
   ],
   "source": [
    "# 8 Obtener una sublista de una lista. indice 2 al 5 sin incluirlo\n",
    "\n",
    "lista=[2, 4, 5, 7,9,8,7]\n",
    "lista2= lista[2:5]\n",
    "lista2\n",
    "\n"
   ]
  },
  {
   "cell_type": "code",
   "execution_count": 12,
   "metadata": {},
   "outputs": [
    {
     "name": "stdout",
     "output_type": "stream",
     "text": [
      "7\n"
     ]
    }
   ],
   "source": [
    "# 9 Obtener el último elemento de una lista\n",
    "lista=[2, 4, 5, 7,9,8,7]\n",
    "print(lista[-1])"
   ]
  },
  {
   "cell_type": "code",
   "execution_count": 13,
   "metadata": {},
   "outputs": [
    {
     "data": {
      "text/plain": [
       "[4, 5]"
      ]
     },
     "execution_count": 13,
     "metadata": {},
     "output_type": "execute_result"
    }
   ],
   "source": [
    "#10 Obtener una sublista de una lista\n",
    "lista=[2, 4, 5, 7,9,8,7]\n",
    "lista2= lista[1:3]\n",
    "lista2"
   ]
  },
  {
   "cell_type": "code",
   "execution_count": 14,
   "metadata": {},
   "outputs": [
    {
     "data": {
      "text/plain": [
       "[2, 0, 5, 7, 9, 8, 7]"
      ]
     },
     "execution_count": 14,
     "metadata": {},
     "output_type": "execute_result"
    }
   ],
   "source": [
    "#11 Reemplazar un elemento en una lista. 2 elemento con nuevo valor\n",
    "lista=[ 2, 4, 5, 7, 9, 8, 7 ]\n",
    "lista [1]=0\n",
    "lista\n"
   ]
  },
  {
   "cell_type": "code",
   "execution_count": 15,
   "metadata": {},
   "outputs": [
    {
     "data": {
      "text/plain": [
       "[7, 8, 9, 7, 5, 4, 2]"
      ]
     },
     "execution_count": 15,
     "metadata": {},
     "output_type": "execute_result"
    }
   ],
   "source": [
    "# 12 Obtener una lista inversa\n",
    "lista=[ 2, 4, 5, 7, 9, 8, 7 ]\n",
    "lista.reverse()\n",
    "lista\n"
   ]
  },
  {
   "cell_type": "code",
   "execution_count": 16,
   "metadata": {},
   "outputs": [
    {
     "data": {
      "text/plain": [
       "[2, 4, 5, 7, 7, 8, 9]"
      ]
     },
     "execution_count": 16,
     "metadata": {},
     "output_type": "execute_result"
    }
   ],
   "source": [
    "#13 Ordenar una lista en orden ascendente\n",
    "lista=[ 2, 4, 5, 7, 9, 8, 7 ]\n",
    "lista.sort()\n",
    "lista"
   ]
  },
  {
   "cell_type": "code",
   "execution_count": 17,
   "metadata": {},
   "outputs": [
    {
     "name": "stdout",
     "output_type": "stream",
     "text": [
      "[5, 9, 7]\n"
     ]
    }
   ],
   "source": [
    "# BONUS Obtener elementos pares de una lista Descripción: Dada una lista, obtén una nueva lista que contenga solo los elementos en posiciones pares.\n",
    "\n",
    "lista=[ 2, 4, 5, 7, 9, 8, 7 ]\n",
    "print(lista [2::2])\n"
   ]
  },
  {
   "cell_type": "code",
   "execution_count": 18,
   "metadata": {},
   "outputs": [
    {
     "name": "stdout",
     "output_type": "stream",
     "text": [
      "[2, 7, 7]\n"
     ]
    }
   ],
   "source": [
    "# Obtener una sublista saltando elementos Descripción: Dada una lista, obtén una sublista que contenga los elementos saltando de 3 en 3.\n",
    "\n",
    "\n",
    "lista=[ 2, 4, 5, 7, 9, 8, 7 ]\n",
    "print(lista [::3])\n"
   ]
  },
  {
   "cell_type": "code",
   "execution_count": 19,
   "metadata": {},
   "outputs": [
    {
     "name": "stdout",
     "output_type": "stream",
     "text": [
      "8\n"
     ]
    }
   ],
   "source": [
    "# Encontrar el segundo valor máximo en una lista\n",
    "lista=[ 2, 4, 5, 7, 9, 8, 7 ]\n",
    "lista.sort()\n",
    "print(lista[-2])\n"
   ]
  },
  {
   "cell_type": "markdown",
   "metadata": {},
   "source": [
    "\n",
    "#Teórico. Debereis contestar la pregunta en una celda de markdown.\n",
    "\n",
    "Descripción: ¿Qué diferencia existe entre el .sort() y el sorted()\n",
    "\n",
    "\n",
    "el sort modifica la variable original y sorted no"
   ]
  },
  {
   "cell_type": "code",
   "execution_count": 20,
   "metadata": {},
   "outputs": [
    {
     "data": {
      "text/plain": [
       "[2, 4, 5, 7, 9, 8, 7, [1, 3], 1, 3]"
      ]
     },
     "execution_count": 20,
     "metadata": {},
     "output_type": "execute_result"
    }
   ],
   "source": [
    "# Agregar elementos a una lista utilizando append y extend\n",
    "\n",
    "#Descripción: Dada una lista inicial, agrega nuevos elementos utilizando tanto append como extend y observa las diferencias en el resultado final. \n",
    "# El elemento que deberéis usar para añadir a la lista original tiene que ser una lista.\n",
    "lista=[ 2, 4, 5, 7, 9, 8, 7 ]\n",
    "lista3=[1, 3]\n",
    "lista.append(lista3)\n",
    "lista\n",
    "lista.extend(lista3)\n",
    "lista\n",
    "\n"
   ]
  },
  {
   "cell_type": "code",
   "execution_count": 30,
   "metadata": {},
   "outputs": [
    {
     "name": "stdout",
     "output_type": "stream",
     "text": [
      "en que posicion quiere insertar el elemento \n"
     ]
    },
    {
     "data": {
      "text/plain": [
       "[2, 4, 5, 7, 9, 8, 'hola', 7]"
      ]
     },
     "execution_count": 30,
     "metadata": {},
     "output_type": "execute_result"
    }
   ],
   "source": [
    "# Insertar un elemento en una posición específica\n",
    "\n",
    "#Descripción: Dada una lista, inserta un nuevo elemento en una posición específica determinada por el usuario \n",
    "# (debereis usar la función input para preguntar al usuario en que posición quiere insertar el elemento).\n",
    "lista=[ 2, 4, 5, 7, 9, 8, 7 ]\n",
    "print('en que posicion quiere insertar el elemento ')\n",
    "posicion=int(input())\n",
    "lista.insert(posicion, 'hola')\n",
    "lista\n"
   ]
  },
  {
   "cell_type": "code",
   "execution_count": 29,
   "metadata": {},
   "outputs": [
    {
     "name": "stdout",
     "output_type": "stream",
     "text": [
      "que elemento quiere buscar en la lista\n",
      "True\n"
     ]
    }
   ],
   "source": [
    "#Verificar si un elemento está presente en una lista\n",
    "\n",
    "#Descripción: Dada una lista, verifica si un elemento específico está presente en ella. Igual que el caso anterior, \n",
    "# debereis preguntar al usuario que elemento quiere buscar en la lista. El resultado deberá ser True o False.\n",
    "lista=[ 2, 4, 5, 7, 9, 8, 7 ]\n",
    "print('que elemento quiere buscar en la lista')\n",
    "elemento=int(input())\n",
    "print(elemento in lista)\n"
   ]
  },
  {
   "cell_type": "code",
   "execution_count": 27,
   "metadata": {},
   "outputs": [
    {
     "name": "stdout",
     "output_type": "stream",
     "text": [
      "[4, 5, 7, 9, 8, 7]\n",
      "[4, 5, 7, 9, 8]\n",
      "[]\n"
     ]
    }
   ],
   "source": [
    "# Manipulación de una lista utilizando remove(), pop() y clear()\n",
    "\n",
    "#Descripción: Crea una lista inicial, realiza operaciones de eliminación y limpieza utilizando los métodos remove(), pop() y clear(), y observa cómo afectan a la lista.\n",
    "\n",
    "lista=[ 2, 4, 5, 7, 9, 8, 7 ]\n",
    "lista.remove(2)\n",
    "print(lista)\n",
    "lista.pop(-1)\n",
    "print(lista)\n",
    "lista.clear()\n",
    "print(lista)"
   ]
  },
  {
   "cell_type": "markdown",
   "metadata": {},
   "source": [
    "Ejercicios de tuplas"
   ]
  },
  {
   "cell_type": "code",
   "execution_count": 37,
   "metadata": {},
   "outputs": [
    {
     "name": "stdout",
     "output_type": "stream",
     "text": [
      "el primer elemento de la tupla es: 2\n"
     ]
    }
   ],
   "source": [
    "#1 Acceder al primer elemento de una tupla Descripción: Dada una tupla, obtén el primer elemento.\n",
    "\n",
    "tupla= ( 2, 5, 8, 9)\n",
    "print('el primer elemento de la tupla es:', min(tupla))\n",
    "\n"
   ]
  },
  {
   "cell_type": "code",
   "execution_count": 38,
   "metadata": {},
   "outputs": [
    {
     "name": "stdout",
     "output_type": "stream",
     "text": [
      "el ultimo elemento de la tupla es: 9\n"
     ]
    }
   ],
   "source": [
    "#2 Acceder al último elemento de una tupla Descripción: Dada una tupla, obtén el último elemento.\n",
    "tupla= ( 2, 5, 8, 9)\n",
    "print('el ultimo elemento de la tupla es:', max(tupla))"
   ]
  },
  {
   "cell_type": "code",
   "execution_count": 36,
   "metadata": {},
   "outputs": [
    {
     "name": "stdout",
     "output_type": "stream",
     "text": [
      "la longitud de la tupla 4\n"
     ]
    }
   ],
   "source": [
    "#3 Obtener la longitud de una tupla Descripción: Dada una tupla, obtén la cantidad de elementos que contiene.\n",
    "tupla= ( 2, 5, 8, 9)\n",
    "print('la longitud de la tupla es:', len(tupla))"
   ]
  },
  {
   "cell_type": "code",
   "execution_count": 39,
   "metadata": {},
   "outputs": [
    {
     "name": "stdout",
     "output_type": "stream",
     "text": [
      "(2, 5, 8, 9)\n",
      "la nueva tupla es: (2, 5, 8, 9, 'hola', 'chau')\n"
     ]
    }
   ],
   "source": [
    "#4 Concatenar dos tuplas Descripción: Dadas dos tuplas, crea una nueva tupla que contenga todos los elementos de ambas tuplas.\n",
    "tupla= ( 2, 5, 8, 9)\n",
    "print(tupla)\n",
    "tupla2= 'hola', 'chau'\n",
    "nueva_tupla= tupla + tupla2\n",
    "print('la nueva tupla es:', nueva_tupla)\n"
   ]
  },
  {
   "cell_type": "code",
   "execution_count": null,
   "metadata": {},
   "outputs": [],
   "source": [
    "#5  Encontrar el índice de un elemento en una tupla\n",
    "# Descripción: Dada una tupla y un valor objetivo, encuentra el índice del primer elemento que coincida con el valor objetivo.\n"
   ]
  },
  {
   "cell_type": "code",
   "execution_count": null,
   "metadata": {},
   "outputs": [],
   "source": [
    "#6 Contar ocurrencias de un elemento en una tupla\n",
    "\n",
    "#Descripción: Dada una tupla y un valor objetivo, cuenta cuántas veces aparece el valor objetivo en la tupla.\n",
    "\n"
   ]
  },
  {
   "cell_type": "code",
   "execution_count": null,
   "metadata": {},
   "outputs": [],
   "source": [
    "#7 Obtener una subtuple de una tupla\n",
    "\n",
    "#Descripción: Dada una tupla, crea una nueva tupla que contenga los elementos desde el índice 1 hasta el índice 3 (sin incluirlo).\n"
   ]
  },
  {
   "cell_type": "code",
   "execution_count": null,
   "metadata": {},
   "outputs": [],
   "source": [
    "# 8 Invertir una tupla Descripción: Dada una tupla, inviértela en orden.\n"
   ]
  }
 ],
 "metadata": {
  "kernelspec": {
   "display_name": "adalab",
   "language": "python",
   "name": "python3"
  },
  "language_info": {
   "codemirror_mode": {
    "name": "ipython",
    "version": 3
   },
   "file_extension": ".py",
   "mimetype": "text/x-python",
   "name": "python",
   "nbconvert_exporter": "python",
   "pygments_lexer": "ipython3",
   "version": "3.10.14"
  }
 },
 "nbformat": 4,
 "nbformat_minor": 2
}
