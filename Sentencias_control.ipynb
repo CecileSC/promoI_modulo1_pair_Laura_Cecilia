{
 "cells": [
  {
   "cell_type": "code",
   "execution_count": 3,
   "metadata": {},
   "outputs": [
    {
     "name": "stdout",
     "output_type": "stream",
     "text": [
      "zero\n"
     ]
    }
   ],
   "source": [
    "#1Verificar si un número es positivo, negativo o cero\n",
    "\n",
    "Numero= int(input('dime un número'))\n",
    "\n",
    "if Numero > 0:\n",
    "    print('positivo')\n",
    "elif Numero < 0:\n",
    "    print('negativo')\n",
    "else:\n",
    "    print('zero')"
   ]
  },
  {
   "cell_type": "code",
   "execution_count": 5,
   "metadata": {},
   "outputs": [
    {
     "name": "stdout",
     "output_type": "stream",
     "text": [
      "impar\n"
     ]
    }
   ],
   "source": [
    "#2 Verificar si un número es par o impar\n",
    "\n",
    "Numero= int(input('dime un número'))\n",
    "\n",
    "if Numero % 2 == 0:\n",
    "    print('par')\n",
    "else:\n",
    "    print('impar')\n",
    "    "
   ]
  },
  {
   "cell_type": "code",
   "execution_count": 8,
   "metadata": {},
   "outputs": [
    {
     "name": "stdout",
     "output_type": "stream",
     "text": [
      "Has aprobado\n"
     ]
    }
   ],
   "source": [
    "3# Verificar si un estudiante aprobó o suspendió un examen\n",
    "\n",
    "calificacion = int(input('dime un notas'))\n",
    "\n",
    "if calificacion >= 60:\n",
    "    print('Has aprobado')\n",
    "else:\n",
    "    print('Has suspendido')"
   ]
  },
  {
   "cell_type": "code",
   "execution_count": 13,
   "metadata": {},
   "outputs": [
    {
     "name": "stdout",
     "output_type": "stream",
     "text": [
      "min 0 max 0\n"
     ]
    }
   ],
   "source": [
    "4# Calcular el máximo entre dos números\n",
    "\n",
    "Numero1 = 0\n",
    "Numero2 = 0\n",
    "\n",
    "\n",
    "if Numero1 > Numero2:\n",
    "    print(f'max {Numero1} min {Numero2}')\n",
    "else:\n",
    "    print(f'min {Numero1} max {Numero2}')"
   ]
  },
  {
   "cell_type": "code",
   "execution_count": 14,
   "metadata": {},
   "outputs": [
    {
     "name": "stdout",
     "output_type": "stream",
     "text": [
      "c es consonante\n"
     ]
    }
   ],
   "source": [
    "5# Verificar si una letra es una vocal o una consonante\n",
    "\n",
    "letra = 'c'\n",
    "vocales = ['a', 'e', 'i', 'o', 'u']\n",
    "\n",
    "if letra in vocales:\n",
    "    print(f'{letra} es vocal')\n",
    "else:\n",
    "    print(f'{letra} es consonante')"
   ]
  },
  {
   "cell_type": "code",
   "execution_count": 21,
   "metadata": {},
   "outputs": [
    {
     "name": "stdout",
     "output_type": "stream",
     "text": [
      "No hay descuento\n"
     ]
    }
   ],
   "source": [
    "6# Calcular el descuento en una compra según el monto total Descripción: Dado el monto total de una compra, calcula el descuento aplicado según las siguientes condiciones: si el monto es mayor o igual a $100, aplica un descuento del 10%; de lo contrario, no aplica ningún descuento.\n",
    "\n",
    "monto = int(input('Ingresa el monto total'))\n",
    "\n",
    "if monto >= 100:\n",
    "   descuento = (monto * 0.10)\n",
    "   print(f'el descuento es {descuento}')\n",
    "else:\n",
    "   print('No hay descuento')\n",
    "\n"
   ]
  },
  {
   "cell_type": "code",
   "execution_count": 26,
   "metadata": {},
   "outputs": [
    {
     "name": "stdout",
     "output_type": "stream",
     "text": [
      "bisiesto\n"
     ]
    }
   ],
   "source": [
    "7# Verificar si un año es bisiesto o no Descripción: Dado un año, verifica si es bisiesto o no (un año es bisiesto si es divisible entre 4, excepto aquellos divisibles entre 100 pero no entre 400).\n",
    "\n",
    "Año = int(input('Ingresa año'))\n",
    "\n",
    "if Año % 4 == 0 and Año % 100 != 0:\n",
    "    print('bisiesto')\n",
    "else: \n",
    "    print('No bisiesto')\n",
    "\n",
    "\n",
    "\n"
   ]
  },
  {
   "cell_type": "code",
   "execution_count": 29,
   "metadata": {},
   "outputs": [
    {
     "name": "stdout",
     "output_type": "stream",
     "text": [
      "Adulto Mayor\n"
     ]
    }
   ],
   "source": [
    "8# Asignar una categoría a una edad. Descripción: Dada una edad, asigna una categoría según las siguientes condiciones: si la edad es menor de 18, la categoría es \"Menor de edad\"; si la edad está entre 18 y 64 (incluyendo ambos), la categoría es \"Adulto\"; de lo contrario, la categoría es \"Adulto mayor\".\n",
    "\n",
    "edad = int(input('Ingresa año'))\n",
    "\n",
    "if edad < 18:\n",
    "    print('Menor de edad')\n",
    "elif edad <= 64:\n",
    "    print('Adulto')\n",
    "elif edad > 64:\n",
    "    print('Adulto Mayor')\n",
    "    \n",
    "else:\n",
    "    print('valor no correcto') \n"
   ]
  },
  {
   "cell_type": "code",
   "execution_count": 32,
   "metadata": {},
   "outputs": [
    {
     "name": "stdout",
     "output_type": "stream",
     "text": [
      "No es\n"
     ]
    }
   ],
   "source": [
    "\n",
    "# Verificar si tres números forman un triángulo rectángulo Descripción: Dados tres números, verifica si forman un triángulo rectángulo (si se cumple el teorema de Pitágoras).\n",
    "\n",
    "n1 = 2\n",
    "n2 = 2\n",
    "n3 = 2\n",
    "\n",
    "if (n1**2) + (n2**2) == (n3**2):\n",
    "    print('Es un triangulo rectangulo')\n",
    "else:\n",
    "    print('No es')"
   ]
  }
 ],
 "metadata": {
  "kernelspec": {
   "display_name": "base",
   "language": "python",
   "name": "python3"
  },
  "language_info": {
   "codemirror_mode": {
    "name": "ipython",
    "version": 3
   },
   "file_extension": ".py",
   "mimetype": "text/x-python",
   "name": "python",
   "nbconvert_exporter": "python",
   "pygments_lexer": "ipython3",
   "version": "3.11.7"
  }
 },
 "nbformat": 4,
 "nbformat_minor": 2
}
