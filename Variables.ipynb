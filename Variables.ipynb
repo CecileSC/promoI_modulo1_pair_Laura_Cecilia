{
 "cells": [
  {
   "cell_type": "markdown",
   "metadata": {},
   "source": [
    "Ejercicio Cecilia y Laura Variables"
   ]
  },
  {
   "cell_type": "code",
   "execution_count": 10,
   "metadata": {},
   "outputs": [
    {
     "name": "stdout",
     "output_type": "stream",
     "text": [
      "False\n",
      "False\n",
      "False\n",
      "True\n"
     ]
    }
   ],
   "source": [
    "# Cread tres variables numéricas de tipo integer (entero)\n",
    "\n",
    "numero1 = 1\n",
    "numero2 = 2\n",
    "numero3 = 3\n",
    "\n",
    "#es el numero1 mayor que el numero2\n",
    "\n",
    "print(numero1>numero2)\n",
    "\n",
    "# Es el numero1 menor que el numero2 pero mayor que el numero3\n",
    "\n",
    "print( numero1<numero2 and numero1>numero3)\n",
    "\n",
    "# Es el numero3 igual que el numero2\n",
    "\n",
    "print(numero3 == numero2)\n",
    "\n",
    "# Es el numero2 distinto que el numero1\n",
    "\n",
    "print(numero2 != numero1)\n",
    "\n"
   ]
  },
  {
   "cell_type": "code",
   "execution_count": 14,
   "metadata": {},
   "outputs": [
    {
     "name": "stdout",
     "output_type": "stream",
     "text": [
      "1012.3000000000001\n",
      "987.9\n",
      "11.90000000000008\n",
      "81.0\n"
     ]
    }
   ],
   "source": [
    "#Cread dos variables numéricas de tipo float (decimal) con dos decimales\n",
    "\n",
    "altura1 = 1000.10\n",
    "altura2 = 12.20\n",
    "\n",
    "#Cuál es la suma de las dos alturas\n",
    "print(altura1 + altura2 )\n",
    "\n",
    "# Cuál es la diferencia entre las alturas\n",
    "print(altura1-altura2)\n",
    "\n",
    "# Cuál es el resto de la división de las dos alturas\n",
    "\n",
    "print(altura1%altura2)\n",
    "\n",
    "#Cuál es resultado de la división de las dos alturas, redondead el resultado a un decimal.\n",
    "\n",
    "print(altura1//altura2)\n",
    "\n",
    "\n"
   ]
  },
  {
   "cell_type": "code",
   "execution_count": 16,
   "metadata": {},
   "outputs": [
    {
     "name": "stdout",
     "output_type": "stream",
     "text": [
      "Cecilia Hola\n"
     ]
    }
   ],
   "source": [
    "#Escribid un programa usando la función input() que le pregunte al usuario su nombre y apellidos. \n",
    "nombre_apellidos = input(\"¿Cuál es tu nombre?\")\n",
    "print(nombre_apellidos)"
   ]
  },
  {
   "cell_type": "code",
   "execution_count": 17,
   "metadata": {},
   "outputs": [
    {
     "name": "stdout",
     "output_type": "stream",
     "text": [
      "CECILIA HOLA\n"
     ]
    }
   ],
   "source": [
    "#Printead su nombre y apellidos todo en mayúsculas\n",
    "print(nombre_apellidos.upper())"
   ]
  },
  {
   "cell_type": "code",
   "execution_count": 18,
   "metadata": {},
   "outputs": [
    {
     "name": "stdout",
     "output_type": "stream",
     "text": [
      "cecilia hola\n"
     ]
    }
   ],
   "source": [
    "#Printead su nombre y apellidos todo en minúsculas\n",
    "\n",
    "print(nombre_apellidos.lower())\n"
   ]
  },
  {
   "cell_type": "code",
   "execution_count": 20,
   "metadata": {},
   "outputs": [
    {
     "name": "stdout",
     "output_type": "stream",
     "text": [
      "Cecilia Hola\n"
     ]
    }
   ],
   "source": [
    "# Printead su nombre y apellidos con la primera letra del nombre y los apellidos en mayúscula y el resto en minúscula.\n",
    "\n",
    "print(nombre_apellidos.title())"
   ]
  },
  {
   "cell_type": "code",
   "execution_count": 21,
   "metadata": {},
   "outputs": [
    {
     "name": "stdout",
     "output_type": "stream",
     "text": [
      "Cecilia hola\n"
     ]
    }
   ],
   "source": [
    "#Printeas solo la primera letra del nombre en mayúscula.\n",
    "print(nombre_apellidos.capitalize())"
   ]
  },
  {
   "cell_type": "code",
   "execution_count": 1,
   "metadata": {},
   "outputs": [
    {
     "name": "stdout",
     "output_type": "stream",
     "text": [
      "Hola cómo estás \n"
     ]
    }
   ],
   "source": [
    "#Escribid un programa usando la función input() que:\n",
    "#Le pregunte al usuario por una frase, almacenad este resultado en una variable\n",
    "\n",
    "frase = input(\"¿Me puedes decir una frase?\")\n",
    "print(frase)\n"
   ]
  },
  {
   "cell_type": "code",
   "execution_count": 2,
   "metadata": {},
   "outputs": [
    {
     "name": "stdout",
     "output_type": "stream",
     "text": [
      "e\n"
     ]
    }
   ],
   "source": [
    "#Le pregunte al usuario por una vocal, almacenad este resultado en una variable.\n",
    "vocal=input(\"¿Me puedes decir una vocal?\")\n",
    "print(vocal)"
   ]
  },
  {
   "cell_type": "code",
   "execution_count": 18,
   "metadata": {},
   "outputs": [
    {
     "name": "stdout",
     "output_type": "stream",
     "text": [
      "10\n",
      "Hola cómo Estás \n"
     ]
    }
   ],
   "source": [
    "#Printead la misma frase pero con la vocal introducida en mayúsulas.\n",
    "fraseindex = frase.index(vocal)\n",
    "print(fraseindex)\n",
    "frasevocal =frase[ :fraseindex] + frase[fraseindex].upper() + frase[fraseindex+1: ]  \n",
    "print(frasevocal)"
   ]
  },
  {
   "cell_type": "code",
   "execution_count": 29,
   "metadata": {},
   "outputs": [
    {
     "name": "stdout",
     "output_type": "stream",
     "text": [
      "['peras', 'manzanas', 'naranjas']\n"
     ]
    }
   ],
   "source": [
    "#Escribid un programa usando la función input() \n",
    "#Le pregunte al usuario por la lista de la compra, separando cada elemento por comas.\n",
    "\n",
    "listacompra = input(\"Dime la lista de la compra\")\n",
    "listacomprasplit =  listacompra.split()\n",
    "print(listacomprasplit)\n"
   ]
  },
  {
   "cell_type": "code",
   "execution_count": 42,
   "metadata": {},
   "outputs": [
    {
     "name": "stdout",
     "output_type": "stream",
     "text": [
      "peras\n",
      "manzanas\n",
      "naranjas\n"
     ]
    }
   ],
   "source": [
    "#Devolved la lista de compra donde veamos cada elemento en una línea.\n",
    "\n",
    "listacomprasalto = \" \".join(listacomprasplit)\n",
    "listacomprasalto2 = listacomprasalto.replace(\" \",\"\\n\")\n",
    "print(listacomprasalto2)\n",
    "\n",
    "\n"
   ]
  }
 ],
 "metadata": {
  "kernelspec": {
   "display_name": "base",
   "language": "python",
   "name": "python3"
  },
  "language_info": {
   "codemirror_mode": {
    "name": "ipython",
    "version": 3
   },
   "file_extension": ".py",
   "mimetype": "text/x-python",
   "name": "python",
   "nbconvert_exporter": "python",
   "pygments_lexer": "ipython3",
   "version": "3.1.-1"
  }
 },
 "nbformat": 4,
 "nbformat_minor": 2
}
