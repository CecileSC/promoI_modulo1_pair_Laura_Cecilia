{
 "cells": [
  {
   "cell_type": "markdown",
   "metadata": {},
   "source": [
    "Pair programming Diccionarios y Sets\n",
    "Ejercicios diccionarios"
   ]
  },
  {
   "cell_type": "code",
   "execution_count": 1,
   "metadata": {},
   "outputs": [
    {
     "name": "stdout",
     "output_type": "stream",
     "text": [
      "{}\n"
     ]
    }
   ],
   "source": [
    "\n",
    "#1 Crear un diccionario vacío\n",
    "#Descripción: Crea un diccionario vacío sin ningún par clave-valor.\n",
    "dicc={}\n",
    "print(dicc)\n",
    "\n",
    "\n"
   ]
  },
  {
   "cell_type": "code",
   "execution_count": 2,
   "metadata": {},
   "outputs": [
    {
     "name": "stdout",
     "output_type": "stream",
     "text": [
      "{'Lorena': 23, 'Juan': 34, 'Luis': 45, 'Aida': 33, 'Manuel': 44}\n"
     ]
    }
   ],
   "source": [
    "#2 Crear un diccionario con elementos. Descripción: Crea un diccionario con pares clave-valor predefinidos. \n",
    "# Definir el diccionario con las claves y valores que querais. \n",
    "# NOTA El diccionario debe tener al menos 5 pares de clave:valor.\n",
    "dicc1= {'Lorena':23, 'Juan':34, 'Luis': 45, 'Aida': 33, 'Manuel': 44 }\n",
    "print(dicc1)\n"
   ]
  },
  {
   "cell_type": "code",
   "execution_count": 12,
   "metadata": {},
   "outputs": [
    {
     "name": "stdout",
     "output_type": "stream",
     "text": [
      "45\n"
     ]
    }
   ],
   "source": [
    "#3Acceder al valor de una clave en un diccionario. Descripción: Usando el diccionario creado en el paso anterior, \n",
    "# obtén el valor correspondiente a una clave específica que indique el usuario \n",
    "# (debereis usar la función input() para preguntar al usuario).\n",
    "\n",
    "dicc1= {'Lorena':23, 'Juan':34, 'Luis': 45, 'Aida': 33, 'Manuel': 44 }\n",
    "nombre=input('escoge un nombre: Lorena, Juan, Luis, Aida, Manuel')\n",
    "\n",
    "print(dicc1.get(nombre))\n",
    "\n"
   ]
  },
  {
   "cell_type": "code",
   "execution_count": 8,
   "metadata": {},
   "outputs": [
    {
     "name": "stdout",
     "output_type": "stream",
     "text": [
      "{'Lorena': 23, 'Juan': 34, 'Luis': 45, 'Aida': 33, 'Manuel': 44, 'Carmen': 18}\n"
     ]
    }
   ],
   "source": [
    "#4 Agregar un nuevo par clave-valor a un diccionario\n",
    "\n",
    "#Descripción: Usando el diccionario creado en el ejercicio 2, agrega un nuevo par clave-valor.\n",
    "\n",
    "dicc1= {'Lorena':23, 'Juan':34, 'Luis': 45, 'Aida': 33, 'Manuel': 44 }\n",
    "dicc1.update({'Carmen': 18})\n",
    "print(dicc1)\n",
    "\n"
   ]
  },
  {
   "cell_type": "code",
   "execution_count": 6,
   "metadata": {},
   "outputs": [
    {
     "name": "stdout",
     "output_type": "stream",
     "text": [
      "{'Lorena': 23, 'Juan': 34, 'Luis': 33, 'Aida': 33, 'Manuel': 44}\n"
     ]
    }
   ],
   "source": [
    "#5 Actualizar el valor de una clave en un diccionario\n",
    "\n",
    "#Descripción: Usando el diccionario creado en el ejercicio 2, actualiza el valor correspondiente a una clave existente. Ejemplo:\n",
    "'''\n",
    "Copy\n",
    "# dado el siguiente diccionario\n",
    "{'nombre': 'Ana', 'edad': 25, 'ciudad': 'Madrid', 'hijos': 1}\n",
    "\n",
    "# el ouptut esperado es: (ha cambiado el valor de la clave edad)\n",
    "{'nombre': 'Ana', 'edad': 40, 'ciudad': 'Madrid', 'hijos': 1}\n",
    "'''\n",
    "dicc1= {'Lorena':23, 'Juan':34, 'Luis': 45, 'Aida': 33, 'Manuel': 44 }\n",
    "nuevo_el = {'Luis': 33}\n",
    "dicc1.update(nuevo_el)\n",
    "print(dicc1)\n",
    "\n"
   ]
  },
  {
   "cell_type": "code",
   "execution_count": 9,
   "metadata": {},
   "outputs": [
    {
     "name": "stdout",
     "output_type": "stream",
     "text": [
      "45\n"
     ]
    }
   ],
   "source": [
    "#6 Eliminar un par clave-valor de un diccionario. Descripción: Usando el diccionario creado en el ejercicio 2, \n",
    "# elimina un par clave-valor específico que indique el usuario \n",
    "# (debereis usar la función input() para preguntar al usuario).\n",
    "\n",
    "dicc1= {'Lorena':23, 'Juan':34, 'Luis': 45, 'Aida': 33, 'Manuel': 44 }\n",
    "valor_usuario=input('dime valor')\n",
    "print(dicc1.get(valor_usuario))\n",
    "\n"
   ]
  },
  {
   "cell_type": "code",
   "execution_count": 10,
   "metadata": {},
   "outputs": [
    {
     "name": "stdout",
     "output_type": "stream",
     "text": [
      "45\n"
     ]
    }
   ],
   "source": [
    "#7 Verificar si una clave está presente en un diccionario\n",
    "\n",
    "#Descripción: Usando el diccionario creado en el ejercicio 2, \n",
    "# verifica si una clave específica está presente en él. \n",
    "# La clave a buscar debe ser pasada por el usuario, debereis usar un input().\n",
    "\n",
    "dicc1= {'Lorena':23, 'Juan':34, 'Luis': 45, 'Aida': 33, 'Manuel': 44 }\n",
    "valor_usuario=input('dime clave')\n",
    "print(dicc1.get(valor_usuario))\n"
   ]
  },
  {
   "cell_type": "code",
   "execution_count": 11,
   "metadata": {},
   "outputs": [
    {
     "data": {
      "text/plain": [
       "dict_keys(['Lorena', 'Juan', 'Luis', 'Aida', 'Manuel'])"
      ]
     },
     "execution_count": 11,
     "metadata": {},
     "output_type": "execute_result"
    }
   ],
   "source": [
    "#8 Obtener una lista de todas las claves de un diccionario\n",
    "\n",
    "#Descripción: Usando el diccionario creado en el ejercicio 2, obtén una lista con todas las claves que contiene.\n",
    "dicc1= {'Lorena':23, 'Juan':34, 'Luis': 45, 'Aida': 33, 'Manuel': 44 }\n",
    "dicc1.keys()\n"
   ]
  },
  {
   "cell_type": "code",
   "execution_count": 12,
   "metadata": {},
   "outputs": [
    {
     "data": {
      "text/plain": [
       "dict_values([23, 34, 45, 33, 44])"
      ]
     },
     "execution_count": 12,
     "metadata": {},
     "output_type": "execute_result"
    }
   ],
   "source": [
    "#9 Obtener una lista de todos los valores de un diccionario\n",
    "\n",
    "#Descripción: Usando el diccionario creado en el ejercicio 2, obtén una lista con todos los valores que contiene.\n",
    "dicc1= {'Lorena':23, 'Juan':34, 'Luis': 45, 'Aida': 33, 'Manuel': 44 }\n",
    "dicc1.values()"
   ]
  },
  {
   "cell_type": "code",
   "execution_count": 16,
   "metadata": {},
   "outputs": [
    {
     "data": {
      "text/plain": [
       "'no está'"
      ]
     },
     "execution_count": 16,
     "metadata": {},
     "output_type": "execute_result"
    }
   ],
   "source": [
    "#10 Utilizar el método setdefault() para establecer un valor predeterminado si la clave no existe\n",
    "\n",
    "#Descripción: Usando el diccionario creado en el ejercicio 2, obten el valor correspondiente a una clave. \n",
    "# Si la clave no existe, establece un valor predeterminado y devuelve dicho valor.\n",
    "\n",
    "dicc1= {'Lorena':23, 'Juan':34, 'Luis': 45, 'Aida': 33, 'Manuel': 44 }\n",
    "dicc1.setdefault('Alba', 'no está')\n"
   ]
  },
  {
   "cell_type": "code",
   "execution_count": 19,
   "metadata": {},
   "outputs": [
    {
     "name": "stdout",
     "output_type": "stream",
     "text": [
      "{'Lorena': 23, 'Juan': 34, 'Luis': 45}\n"
     ]
    }
   ],
   "source": [
    "#11 Manipulación de un diccionario utilizando pop() y popitem()\n",
    "\n",
    "#Descripción: Usando el diccionario creado en el ejercicio 2, \n",
    "# realiza operaciones de eliminación utilizando pop() y popitem(), \n",
    "# y observa cómo afectan al diccionario.\n",
    "\n",
    "dicc1= {'Lorena':23, 'Juan':34, 'Luis': 45, 'Aida': 33, 'Manuel': 44 }\n",
    "dicc1.pop('Manuel')\n",
    "dicc1.popitem()\n",
    "print(dicc1)"
   ]
  },
  {
   "cell_type": "code",
   "execution_count": null,
   "metadata": {},
   "outputs": [],
   "source": []
  },
  {
   "cell_type": "markdown",
   "metadata": {},
   "source": [
    "Ejercicios sets"
   ]
  },
  {
   "cell_type": "code",
   "execution_count": 20,
   "metadata": {},
   "outputs": [],
   "source": [
    "#1 Crear un conjunto vacío. Descripción: Crea un conjunto vacío sin ningún elemento.\n",
    "\n",
    "set={}"
   ]
  },
  {
   "cell_type": "code",
   "execution_count": 21,
   "metadata": {},
   "outputs": [
    {
     "name": "stdout",
     "output_type": "stream",
     "text": [
      "{'perros', 'pajaros', 'gatos'}\n"
     ]
    }
   ],
   "source": [
    "#2 Crear un conjunto con elementos. Descripción: Crea un conjunto con elementos predefinidos.\n",
    "\n",
    "set={'gatos', 'perros', 'pajaros'}\n",
    "print(set)"
   ]
  },
  {
   "cell_type": "code",
   "execution_count": 23,
   "metadata": {},
   "outputs": [
    {
     "name": "stdout",
     "output_type": "stream",
     "text": [
      "{'perros', 'pajaros', 'conejos', 'gatos', 'peces', 'serpientes'}\n"
     ]
    }
   ],
   "source": [
    "#3 Agregar elementos a un conjunto\n",
    "\n",
    "#Descripción: Usando el set creado en el ejercicio 2, agrega nuevos elementos. Debereis agregar por separado:\n",
    "\n",
    "#Un elemento solo\n",
    "\n",
    "#Un par de elementos a la vez.\n",
    "set={'gatos', 'perros', 'pajaros'}\n",
    "nuevo_elemento= 'serpientes'\n",
    "set.add(nuevo_elemento)\n",
    "set.update({'peces', 'conejos'})\n",
    "print(set)"
   ]
  },
  {
   "cell_type": "code",
   "execution_count": 24,
   "metadata": {},
   "outputs": [
    {
     "name": "stdout",
     "output_type": "stream",
     "text": [
      "{'perros', 'pajaros', 'conejos', 'gatos', 'serpientes'}\n"
     ]
    }
   ],
   "source": [
    "#4 Eliminar un elemento de un conjunto\n",
    "\n",
    "#Descripción: Usando el set creado en el ejercicio 2, elimina un elemento especificado por el usuario.\n",
    "\n",
    "set={'perros', 'pajaros', 'conejos', 'gatos', 'peces', 'serpientes'}\n",
    "pregunta= input('eliminar')\n",
    "set.remove(pregunta)\n",
    "print(set)"
   ]
  },
  {
   "cell_type": "code",
   "execution_count": 25,
   "metadata": {},
   "outputs": [
    {
     "data": {
      "text/plain": [
       "True"
      ]
     },
     "execution_count": 25,
     "metadata": {},
     "output_type": "execute_result"
    }
   ],
   "source": [
    "\n",
    "#5 Verificar la pertenencia de un elemento en un conjunto\n",
    "\n",
    "#Descripción: Usando el set creado en el ejercicio 2, verifica si un elemento específico está presente en él.\n",
    "set={'perros', 'pajaros', 'conejos', 'gatos', 'peces', 'serpientes'}\n",
    "'perros' in set\n"
   ]
  },
  {
   "cell_type": "code",
   "execution_count": 27,
   "metadata": {},
   "outputs": [
    {
     "name": "stdout",
     "output_type": "stream",
     "text": [
      "{'perros', 'pajaros', 'conejos', 'loro', 'gatos', 'mono', 'peces', 'serpientes'}\n"
     ]
    }
   ],
   "source": [
    "\n",
    "#6 Realizar una unión de conjuntos\n",
    "\n",
    "#Descripción: Dados dos conjuntos, realiza una unión de ellos.\n",
    "set={'perros', 'pajaros', 'conejos', 'gatos', 'peces', 'serpientes'}\n",
    "set2={'mono', 'loro'}\n",
    "union= set.union(set2)\n",
    "print(union)"
   ]
  },
  {
   "cell_type": "code",
   "execution_count": 29,
   "metadata": {},
   "outputs": [
    {
     "name": "stdout",
     "output_type": "stream",
     "text": [
      "{'perros', 'pajaros', 'conejos', 'loro', 'gatos', 'mono', 'peces', 'serpientes'}\n"
     ]
    }
   ],
   "source": [
    "#7 Realizar una intersección de conjuntos\n",
    "\n",
    "#Descripción: Usando dos conjuntos de datos definidos en el ejercicio anterior, realiza una intersección de ellos.\n",
    "set={'perros', 'pajaros', 'conejos', 'gatos', 'peces', 'serpientes'}\n",
    "set2={'mono', 'loro'}\n",
    "inters= set.intersection(set2)\n",
    "print(union)"
   ]
  },
  {
   "cell_type": "code",
   "execution_count": 31,
   "metadata": {},
   "outputs": [
    {
     "name": "stdout",
     "output_type": "stream",
     "text": [
      "{'pajaros', 'peces', 'serpientes', 'perros', 'conejos', 'gatos'}\n"
     ]
    }
   ],
   "source": [
    "#8 Realizar una diferencia de conjuntos\n",
    "\n",
    "#Descripción: Usando dos conjuntos de datos definidos en el ejercicio anterior, realiza una diferencia entre ellos.\n",
    "set={'perros', 'pajaros', 'conejos', 'gatos', 'peces', 'serpientes'}\n",
    "set2={'mono', 'loro'}\n",
    "diferncia= set.difference(set2)\n",
    "print(diferncia)"
   ]
  },
  {
   "cell_type": "code",
   "execution_count": 33,
   "metadata": {},
   "outputs": [
    {
     "name": "stdout",
     "output_type": "stream",
     "text": [
      "False\n"
     ]
    }
   ],
   "source": [
    "#9 Verificar si un conjunto es subconjunto de otro\n",
    "\n",
    " #Descripción: Dados dos conjuntos, verifica si uno es subconjunto del otro.\n",
    "set={'perros', 'pajaros', 'conejos', 'gatos', 'peces', 'serpientes'}\n",
    "set2={'mono', 'loro'}\n",
    "conjin= set.issubset(set2)\n",
    "print(conjin)"
   ]
  },
  {
   "cell_type": "markdown",
   "metadata": {},
   "source": []
  }
 ],
 "metadata": {
  "kernelspec": {
   "display_name": "promoI",
   "language": "python",
   "name": "python3"
  },
  "language_info": {
   "codemirror_mode": {
    "name": "ipython",
    "version": 3
   },
   "file_extension": ".py",
   "mimetype": "text/x-python",
   "name": "python",
   "nbconvert_exporter": "python",
   "pygments_lexer": "ipython3",
   "version": "3.9.19"
  }
 },
 "nbformat": 4,
 "nbformat_minor": 2
}
