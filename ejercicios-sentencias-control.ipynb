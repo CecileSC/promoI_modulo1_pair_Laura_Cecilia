{
 "cells": [
  {
   "cell_type": "code",
   "execution_count": 3,
   "metadata": {},
   "outputs": [
    {
     "name": "stdout",
     "output_type": "stream",
     "text": [
      "El número es positivo.\n"
     ]
    }
   ],
   "source": [
    "##Ejercicios if-else\n",
    "#1.\tVerificar si un número es positivo, negativo o cero\n",
    "#o\tDescripción: Dado un número, verifica si es positivo, negativo o cero.\n",
    "numero= int (input('verifica si un numero es positivo, negativo o cero'))\n",
    "\n",
    "if numero > 0:\n",
    "    print( \"El número es positivo.\")\n",
    "elif numero < 0:\n",
    "    print( \"El número es negativo.\")\n",
    "else:\n",
    "    print( \"El número es cero.\")"
   ]
  },
  {
   "cell_type": "code",
   "execution_count": null,
   "metadata": {},
   "outputs": [],
   "source": [
    "#2.\tVerificar si un número es par o impar\n",
    "#o\tDescripción: Dado un número, verifica si es par o impar.\n",
    "numero= int (input('verifica si un numero es par o impar'))\n",
    "if numero > :\n",
    "    print( \"El número es par.\")\n",
    "\n",
    "else:\n",
    "    print( \"El número es impar.\")"
   ]
  },
  {
   "cell_type": "code",
   "execution_count": 5,
   "metadata": {},
   "outputs": [
    {
     "name": "stdout",
     "output_type": "stream",
     "text": [
      "suspendiste\n"
     ]
    }
   ],
   "source": [
    "#3.\tVerificar si un estudiante aprobó o suspendió un examen\n",
    "#o\tDescripción: Dada la calificación de un estudiante en un examen, \n",
    "# verifica si aprobó o suspendió (si la calificación es mayor o igual a 60 se considera aprobado).\n",
    "numero= float (input('verifica si aprobaste o suspendiste'))\n",
    "if numero >= 60 :\n",
    "    print( \"aprobaste\")\n",
    "\n",
    "else:\n",
    "    print( \"suspendiste\")"
   ]
  },
  {
   "cell_type": "code",
   "execution_count": 6,
   "metadata": {},
   "outputs": [
    {
     "name": "stdout",
     "output_type": "stream",
     "text": [
      "28\n"
     ]
    }
   ],
   "source": [
    "#4.\tCalcular el máximo entre dos números\n",
    "#o\tDescripción: Dados dos números, encuentra el máximo entre ellos.\n",
    "num1= 15\n",
    "num2= 28\n",
    "print(max(num1, num2))'''\n",
    "if num"
   ]
  },
  {
   "cell_type": "code",
   "execution_count": null,
   "metadata": {},
   "outputs": [],
   "source": [
    "#5.\tVerificar si una letra es una vocal o una consonante\n",
    "#o\tDescripción: Dada una letra, verifica si es una vocal o una consonante.\n"
   ]
  },
  {
   "cell_type": "code",
   "execution_count": null,
   "metadata": {},
   "outputs": [],
   "source": [
    "#6.\tCalcular el descuento en una compra según el monto total\n",
    "#o\tDescripción: Dado el monto total de una compra, calcula el descuento aplicado según las siguientes condiciones: \n",
    "# si el monto es mayor o igual a $100, aplica un descuento del 10%; de lo contrario, no aplica ningún descuento.\n"
   ]
  },
  {
   "cell_type": "code",
   "execution_count": null,
   "metadata": {},
   "outputs": [],
   "source": [
    "#7.\tVerificar si un año es bisiesto o no\n",
    "#o\tDescripción: Dado un año, verifica si es bisiesto o no \n",
    "# (un año es bisiesto si es divisible entre 4, excepto aquellos divisibles entre 100 pero no entre 400).\n"
   ]
  },
  {
   "cell_type": "code",
   "execution_count": null,
   "metadata": {},
   "outputs": [],
   "source": [
    "#8.\tAsignar una categoría a una edad\n",
    "#o\tDescripción: Dada una edad, asigna una categoría según las siguientes condiciones: \n",
    "# si la edad es menor de 18, la categoría es \"Menor de edad\"; si la edad está entre 18 y 64 (incluyendo ambos), \n",
    "# la categoría es \"Adulto\"; de lo contrario, la categoría es \"Adulto mayor\".\n"
   ]
  },
  {
   "cell_type": "code",
   "execution_count": null,
   "metadata": {},
   "outputs": [],
   "source": [
    "#9.\tVerificar si tres números forman un triángulo rectángulo\n",
    "#o\tDescripción: Dados tres números, verifica si forman un triángulo rectángulo (si se cumple el teorema de Pitágoras).\n"
   ]
  },
  {
   "cell_type": "code",
   "execution_count": null,
   "metadata": {},
   "outputs": [],
   "source": [
    "#10.\tAsignar una calificación a una puntuación\n",
    "#o\tDescripción: Dada una puntuación, asigna una calificación según las siguientes condiciones: \n",
    "# si la puntuación es mayor o igual a 90, la calificación es \"A\"; si es mayor o igual a 80, la calificación es \"B\"; \n",
    "# si es mayor o igual a 70, la calificación es \"C\"; si es mayor o igual a 60, la calificación es \"D\"; de lo contrario, \n",
    "# la calificación es \"F\".\n"
   ]
  },
  {
   "cell_type": "code",
   "execution_count": null,
   "metadata": {},
   "outputs": [],
   "source": [
    "#11.\tCalcular el índice de masa corporal (IMC) y categorizarlo\n",
    "#o\tDescripción: Dados el peso (en kg) y la altura (en metros) de una persona, \n",
    "# calcula su IMC y categorízalo según las siguientes condiciones: \n",
    "# si el IMC es menor a 18.5, es \"Bajo peso\"; si está entre 18.5 y 24.9 (inclusive), \n",
    "# es \"Peso normal\"; si está entre 25 y 29.9 (inclusive), es \"Sobrepeso\"; de lo contrario, es \"Obesidad\".\n"
   ]
  },
  {
   "cell_type": "code",
   "execution_count": null,
   "metadata": {},
   "outputs": [],
   "source": [
    "#12.\tCalcular el mayor de tres números\n",
    "#o\tDescripción: Dados tres números, encuentra el mayor entre ellos.\n"
   ]
  },
  {
   "cell_type": "code",
   "execution_count": null,
   "metadata": {},
   "outputs": [],
   "source": [
    "#13.\tBONUS sentencias de control: Verificar la validez de una fecha\n",
    "#o\tDescripción: Dados el día, el mes y el año de una fecha, verifica si la fecha es válida.\n"
   ]
  },
  {
   "cell_type": "markdown",
   "metadata": {},
   "source": [
    "## Ejercicios while"
   ]
  },
  {
   "cell_type": "code",
   "execution_count": null,
   "metadata": {},
   "outputs": [],
   "source": [
    "#1.\tCalcular la suma de los primeros 10 números naturales utilizando un bucle while\n",
    "#o\tDescripción: Utiliza un bucle while para calcular la suma de los primeros 10 números naturales (1 + 2 + 3 + ... + 10).\n",
    "\n"
   ]
  },
  {
   "cell_type": "code",
   "execution_count": null,
   "metadata": {},
   "outputs": [],
   "source": [
    "#2.\tJuego de adivinanza utilizando un bucle while\n",
    "#o\tDescripción: Crea un juego de adivinanza en el que el jugador \n",
    "# tiene que adivinar un número secreto (tendrá que ser entre el 0 y el 10). \n",
    "# Utiliza un bucle while para permitir múltiples intentos hasta que el jugador adivine correctamente.\n"
   ]
  },
  {
   "cell_type": "code",
   "execution_count": null,
   "metadata": {},
   "outputs": [],
   "source": [
    "#"
   ]
  },
  {
   "cell_type": "code",
   "execution_count": null,
   "metadata": {},
   "outputs": [],
   "source": [
    "#"
   ]
  },
  {
   "cell_type": "code",
   "execution_count": null,
   "metadata": {},
   "outputs": [],
   "source": [
    "#"
   ]
  },
  {
   "cell_type": "code",
   "execution_count": null,
   "metadata": {},
   "outputs": [],
   "source": [
    "#"
   ]
  },
  {
   "cell_type": "code",
   "execution_count": null,
   "metadata": {},
   "outputs": [],
   "source": [
    "#"
   ]
  },
  {
   "cell_type": "code",
   "execution_count": null,
   "metadata": {},
   "outputs": [],
   "source": [
    "#"
   ]
  },
  {
   "cell_type": "code",
   "execution_count": null,
   "metadata": {},
   "outputs": [],
   "source": [
    "#"
   ]
  },
  {
   "cell_type": "code",
   "execution_count": null,
   "metadata": {},
   "outputs": [],
   "source": [
    "#"
   ]
  }
 ],
 "metadata": {
  "kernelspec": {
   "display_name": "promoI",
   "language": "python",
   "name": "python3"
  },
  "language_info": {
   "codemirror_mode": {
    "name": "ipython",
    "version": 3
   },
   "file_extension": ".py",
   "mimetype": "text/x-python",
   "name": "python",
   "nbconvert_exporter": "python",
   "pygments_lexer": "ipython3",
   "version": "3.9.19"
  }
 },
 "nbformat": 4,
 "nbformat_minor": 2
}
